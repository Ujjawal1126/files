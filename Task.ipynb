import json
import re

def search_in_json(json_file, search_string):
    try:
        with open(json_file, 'r') as file:
            data = json.load(file)
    except FileNotFoundError:
        print(f"File '{json_file}' not found.")
        return None
    except json.JSONDecodeError:
        print(f"Invalid JSON format in '{json_file}'.")
        return None

    try:
        # Merge all the text by removing spaces between words
        blocks = data['Blocks']
        merged_text = ''
        for block in blocks:
            if block['BlockType'] == 'WORD':
                merged_text += block['Text']
        merged_text = re.sub(r'\s+', '', merged_text)

        # Search for the given search string
        match = re.search(search_string, merged_text)
        if match:
            # Find the corresponding coordinates in the Textract JSON
            start_index = match.start()
            end_index = match.end()
            for block in blocks:
                if block['BlockType'] == 'WORD' and block['Text'] == search_string:
                    return block['Geometry']['BoundingBox']
        else:
            return None
    except KeyError:
        print("Missing required fields in the Textract response.")
        return None
    except re.error:
        print("Invalid regular expression pattern.")
        return None

# Example usage
json_file = 'textract_response.json'
search_string = 'example'

result = search_in_json(json_file, search_string)
if result:
    print(f"The search string '{search_string}' was found at the following coordinates:")
    print(result)
else:
    print(f"The search string '{search_string}' was not found.")


BMGInsuranceBrokersLimited1165BMGPolicyNo.:E017422000SECURITYDETAILSWRITTENLINES:Lloyd'sUnderwriterSynd.Lloyd's100%1.KLN510:80%/2.TMK1880:20%510/1880510HEA747F22AAun29/7/20221880HEA748Q22AA
