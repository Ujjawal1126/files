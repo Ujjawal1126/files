coordinates = []
        for item in json_data['Blocks']:
            if item['BlockType'] == 'LINE':
                if search_string in item['Text']:
                    coordinates.append(item['Geometry']['BoundingBox'])
