# Use an Ubuntu base image
FROM ubuntu:latest

# Set environment variables (optional)
ENV DEBIAN_FRONTEND=noninteractive

# Update package lists and install system dependencies
RUN apt-get update && apt-get install -y \
    build-essential \
    curl \
    python3 \
    python3-pip

# Install individual package dependencies (if required)
# For example, if you need to install faiss-cpu and other packages that have specific dependencies.

# Install Python packages
RUN pip3 install ctransformers==0.2.5 faiss-cpu==1.7.4 fastapi>=0.96.0 ipykernel>=6.23.1 langchain==0.0.225 pypdf==3.8.1 python-box==7.0.1 python-dotenv==1.0.0 sentence-transformers==2.2.2 uvicorn>=0.22.0

# Expose ports if required (e.g., for uvicorn)
# EXPOSE 8000

# Start the required service (e.g., uvicorn)
# CMD ["uvicorn", "app:app", "--host", "0.0.0.0", "--port", "8000"]
