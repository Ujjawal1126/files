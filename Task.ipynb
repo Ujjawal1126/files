coordinates = []
        for item in json_data['Blocks']:
            if item['BlockType'] == 'LINE':
                if search_string in item['Text']:
                    coordinates.append(item['Geometry']['BoundingBox'])

def check_similarity_of_ref_ids(bucket_name,json_file_name,reference_id):
    s3_connection = boto3.resource("s3")
    client = boto3.client('s3')
    result = client.get_object(Bucket=bucket_name, Key=json_file_name)
    text = result['Body'].read().decode('utf-8')
    res = json.loads(text)
    
    matched = []

    for response in res:
        blocks=response["Blocks"]
        for block in blocks:
            if block["BlockType"] == 'LINE':
                for ref_id in reference_id:
                    similarity_ratio = fuzz.ratio(ref_id,block["Text"])
                    if similarity_ratio>=50:
                        matched.append(block['Text'])
#                         print("Match found this is the id u used while searching : " ,ref_id)
#                         print("this is the matched text: " ,block["Text"])
#                         print(similarity_ratio)
                        
    return matched


def get_page(bucket_name, json_file_name, reference_id):
    s3_connection = boto3.resource("s3")
    client = boto3.client('s3')
    result = client.get_object(Bucket=bucket_name, Key=json_file_name)
    text = result['Body'].read().decode('utf-8')
    res = json.loads(text)
    
    matched_pages = []

    for page_num, response in enumerate(res, 1):
        blocks = response["Blocks"]
        for block in blocks:
            if block["BlockType"] == 'LINE':
                for ref_id in reference_id:
                    similarity_ratio = fuzz.ratio(ref_id, block["Text"])
                    if similarity_ratio >= 50:
                        matched_pages.append(page_num)
                        break  # Break out of the inner loop to avoid duplicate matches
    
    return matched_pages




[{'DocumentMetadata': {'Pages': 24}, 'JobStatus': 'SUCCEEDED', 'NextToken': '9SU1apaw39noRJGdTPblmIOmjMZWWqM1fxwQ6tGnn6TA7ofWDdJ6YgAEF4lLL8kh4rvPYZE/c1sa5PCA0KsaOV3W8SXhrW2KFvjXWwTIj2SGv/0ciMnSguUkjQGoBzis2mzL36k=', 'Blocks': [{'BlockType': 'PAGE', 'Geometry': {'BoundingBox': {'Width': 1.0, 'Height': 1.0, 'Left': 0.0, 'Top': 0.0}, 'Polygon': [{'X': 0.0, 'Y': 5.251113907434046e-05}, {'X': 1.0, 'Y': 0.0}, {'X': 1.0, 'Y': 1.0}, {'X': 1.9305643661482463e-07, 'Y': 1.0}]}, 'Id': '4a84498d-3786-4ea6-bef2-0221b48a345a', 'Relationships': [{'Type': 'CHILD', 'Ids': ['98978609-a30c-4926-a0ff-e39da32588d8', '7b3b36e1-519e-4db6-aaed-eecce03ddb93', '7c58c7ad-ffcb-4b70-90f9-4d5dc8762002', 'c016d87b-7ed8-4813-bb15-ef49c374d40c', 'ad40d1f8-d7c1-486a-820f-298bcab177a6', '298b7f1e-21b1-4dbc-ac53-7a14151249cb', '78328bb5-2039-47e4-a864-992017eaa11b', '77e7f150-e4b3-4000-a459-5d44795f5239', 'd5f36e63-083b-48ee-95dc-f642cce6a12d', 'ab52e9fe-0b1d-4ec4-a24e-d159fa0f22dd', 'e7ead86d-df43-44b1-8e76-0ea908fec79d', '649ab90d-fd09-4e8f-91c6-3a4ea3206233', '820a57bd-275e-484a-8347-b4ea7dc173dc', 'db4ea0a7-298e-489e-a3b7-2b26a3d1ae36', '059f3965-790f-4a4a-9d26-8907aa90ab5f', '8af05ea2-05cc-4361-b82e-ffe1a780aec2', '08e9d1bd-a127-4b08-b1f8-fbff8a09ccb8', '26ada811-f082-4277-b221-51bd20301dff', '393bd316-9779-4a65-9211-413c823d4fd2', '1b62d285-955a-4fcc-b569-d06b76c9ebd9', 'eb913b17-713f-4ffc-a98c-f750a1fe20f0', 'fe00de6d-d4d3-423b-b18b-4306223ab7b0', '83d5cceb-7882-4a1e-b98f-344e79863fca', '6485aa3a-5ec5-4325-8ac7-10b5a2f0a37c', 'b48cb7c3-b2e4-4c7c-ab82-f9f16d3be1cc', 'f0e593c2-1dbf-4dba-b631-1a5a04b61bd9', '1e7cc6e7-9a6e-467c-87b5-e49dbfe7b0ef', 'b132e7d8-591b-4b53-81ba-65f31c2348d9', '3a928b25-1830-46d7-88d6-68da82c627f6', 'ec3f506b-e8d7-4d56-8e56-54e2ec9ba548', '2b0e0abd-31c3-48bb-bd32-5eb9bdd55b69', '430ce478-9200-485b-94a9-6d575c0dbb0e', '555500ce-b740-42f3-9ded-488728447bf0', 'd1a08638-c826-405c-8d7a-bb161e918026', 'bb81eaa6-84d0-4891-8777-c10a9982868f', 'ff0d32b2-0318-434b-98d1-d1e680a0961d', 'd436f5ab-172d-4b58-89a5-93841c99708d', '65631d46-1458-427f-86e0-c25368e6dec2', '2f3fe4fa-56f4-46f1-a0bb-de6de73248f8', 'ac9a2093-0bc9-454d-816d-0741a00fcef6', 'e433f818-ed9d-41fc-944d-fc1047d7da1d', 'f15143c2-7300-4659-be2a-7853f21e4fbc', 'fb8447a8-c031-44f1-94c5-1be0f18fb49f', '24b79870-763b-49c6-8e9f-00bc21c85b7b', 'e11a321a-ee37-49f6-bb35-45844a608361', 'f8e3a665-6338-4227-9dcb-0a964e187099', '7eab0c80-1815-470d-814e-8cf9b9405b5f', '7cb78a3a-996f-4088-891c-f399b9425963', '1eeadb9f-ce7c-4f7e-9eb0-c929e9e3827d', '2df94113-4133-4bbd-8f52-3396d1d47461', '17085e0e-2532-4efc-96a9-131aeb887730', 'fa3080ed-6625-42dd-9ef1-1c7f0f062b09', 'f27975df-6b6b-4957-8eba-1a2dec25296f', '6a9d2492-788b-4482-bea7-46fc663992da', '93cb2a49-0039-4e0b-9358-93af0aa0dc2b', 'd9c91611-4a8f-4487-a197-dbd3989201bc', '04c1ed15-8ce2-4e99-b4aa-c77c3a092315', '8246fd2c-a80e-4366-a739-f6fad405eafc', '1faa24b5-ee95-49af-9e43-f497dff67567', '2caa620b-3c5a-4d82-ad11-80850e70c19f', 'a46f791e-6154-44c6-8c45-5f313867d0ae']}], 'Page': 1}, {'BlockType': 'LINE', 'Confidence': 99.94032287597656, 'Text': 'Aon', 'Geometry': {'BoundingBox': {'Width': 0.03338722884654999, 'Height': 0.009958483278751373, 'Left': 0.0944531038403511, 'Top': 0.04175691306591034}, 'Polygon': [{'X': 0.0944531038403511, 'Y': 0.041761066764593124}, {'X': 0.12783148884773254, 'Y': 0.04175691306591034}, {'X': 0.1278403401374817, 'Y': 0.05171129107475281}, {'X': 0.0944618433713913, 'Y': 0.05171539634466171}]}, 'Id': '98978609-a30c-4926-a0ff-e39da32588d8', 'Relationships': [{'Type': 'CHILD', 'Ids': ['133377e5-0e25-42ab-8f28-1bd7384ced60']}], 'Page': 1}, {'BlockType': 'LINE', 'Confidence': 99.94121551513672, 'Text': 'Risk Details', 'Geometry': {'BoundingBox': {'Width': 0.15160833299160004, 'Height': 0.015173368155956268, 'Left': 0.09600197523832321, 'Top': 0.07847199589014053}, 'Polygon': [{'X': 0.09600197523832321, 'Y': 0.07849004864692688}, {'X': 0.24759620428085327, 'Y': 0.07847199589014053}, {'X': 0.24761030077934265, 'Y': 0.09362764656543732}, {'X': 0.09601528197526932, 'Y': 0.0936453640460968}]}, 'Id': '7b3b36e1-519e-4db6-aaed-eecce03ddb93', 'Relationships': [{'Type': 'CHILD', 'Ids': ['6bac410c-9e4e-49b1-ba7b-c56459b4657b', '128b865c-7892-4cb5-814d-d67a3caeb5a9']}], 'Page': 1}, {'BlockType': 'LINE', 'Confidence': 99.8448257446289, 'Text': '1730 AON', 'Geometry': {'BoundingBox': {'Width': 0.07885829359292984, 'Height': 0.010181998834013939, 'Left': 0.8172857165336609, 'Top': 0.08339454978704453}, 'Polygon': [{'X': 0.8172857165336609, 'Y': 0.08340388536453247}, {'X': 0.8961322903633118, 'Y': 0.08339454978704453}, {'X': 0.8961440324783325, 'Y': 0.09356733411550522}, {'X': 0.8172971606254578, 'Y': 0.09357655048370361}]}, 'Id': '7c58c7ad-ffcb-4b70-90f9-4d5dc8762002', 'Relationships': [{'Type': 'CHILD', 'Ids': ['0ec7848e-aee7-41e4-9224-798e8febba8b', 'c0ee0143-0ce7-42a6-9893-f43c7975d032']}], 'Page': 1}, {'BlockType': 'LINE', 'Confidence': 99.87893676757812, 'Text': 'Unique Market', 'Geometry': {'BoundingBox': {'Width': 0.11897746473550797, 'Height': 0.012549003586173058, 'Left': 0.09540999680757523, 'Top': 0.12326232343912125}, 'Polygon': [{'X': 0.09540999680757523, 'Y': 0.12327571958303452}, {'X': 0.21437594294548035, 'Y': 0.12326232343912125}, {'X': 0.2143874615430832, 'Y': 0.1357981413602829}, {'X': 0.09542100131511688, 'Y': 0.13581132888793945}]}, 'Id': 'c016d87b-7ed8-4813-bb15-ef49c374d40c', 'Relationships': [{'Type': 'CHILD', 'Ids': ['029f81bf-986f-43d4-9f69-6e49af6903e5', 'b3fb76f2-349f-41da-a9c8-0c127e75b89c']}], 'Page': 1}, {'BlockType': 'LINE', 'Confidence': 99.92560577392578, 'Text': 'Reference (UMR)', 'Geometry': {'BoundingBox': {'Width': 0.13518543541431427, 'Height': 0.01260684709995985, 'Left': 0.09554145485162735, 'Top': 0.13755694031715393}, 'Polygon': [{'X': 0.09554145485162735, 'Y': 0.13757188618183136}, {'X': 0.23071524500846863, 'Y': 0.13755694031715393}, {'X': 0.23072688281536102, 'Y': 0.15014909207820892}, {'X': 0.09555251151323318, 'Y': 0.15016378462314606}]}, 'Id': 'ad40d1f8-d7c1-486a-820f-298bcab177a6', 'Relationships': [{'Type': 'CHILD', 'Ids': ['684e4ca5-4a6a-42e4-aa67-84c30dec5fd4', '3c3472d2-9384-49c4-8666-503ead3aeca4']}], 'Page': 1}, {'BlockType': 'LINE', 'Confidence': 97.0902328491211, 'Text': 'B173022D0305008', 'Geometry': {'BoundingBox': {'Width': 0.1459764838218689, 'Height': 0.009972741827368736, 'Left': 0.28653430938720703, 'Top': 0.13781704008579254}, 'Polygon': [{'X': 0.28653430938720703, 'Y': 0.13783317804336548}, {'X': 0.4325008988380432, 'Y': 0.13781704008579254}, {'X': 0.4325107932090759, 'Y': 0.1477738618850708}, {'X': 0.28654369711875916, 'Y': 0.14778979122638702}]}, 'Id': '298b7f1e-21b1-4dbc-ac53-7a14151249cb', 'Relationships': [{'Type': 'CHILD', 'Ids': ['a3383ce2-e002-4a4e-8333-1b24fc3310e3']}], 'Page': 1}, {'BlockType': 'LINE', 'Confidence': 99.91654968261719, 'Text': 'Reinsured', 'Geometry': {'BoundingBox': {'Width': 0.08415760099887848, 'Height': 0.010150657966732979, 'Left': 0.09510444104671478, 'Top': 0.16415226459503174}, 'Polygon': [{'X': 0.09510444104671478, 'Y': 0.16416124999523163}, {'X': 0.17925284802913666, 'Y': 0.16415226459503174}, {'X': 0.17926204204559326, 'Y': 0.17429406940937042}, {'X': 0.0951133444905281, 'Y': 0.17430292069911957}]}, 'Id': '78328bb5-2039-47e4-a864-992017eaa11b', 'Relationships': [{'Type': 'CHILD', 'Ids': ['84a7b8e2-82a4-4b78-be05-2461ba7221c3']}],
