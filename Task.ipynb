coordinates = []
        for item in json_data['Blocks']:
            if item['BlockType'] == 'LINE':
                if search_string in item['Text']:
                    coordinates.append(item['Geometry']['BoundingBox'])

def check_similarity_of_ref_ids(bucket_name,json_file_name,reference_id):
    s3_connection = boto3.resource("s3")
    client = boto3.client('s3')
    result = client.get_object(Bucket=bucket_name, Key=json_file_name)
    text = result['Body'].read().decode('utf-8')
    res = json.loads(text)
    
    matched = []

    for response in res:
        blocks=response["Blocks"]
        for block in blocks:
            if block["BlockType"] == 'LINE':
                for ref_id in reference_id:
                    similarity_ratio = fuzz.ratio(ref_id,block["Text"])
                    if similarity_ratio>=50:
                        matched.append(block['Text'])
#                         print("Match found this is the id u used while searching : " ,ref_id)
#                         print("this is the matched text: " ,block["Text"])
#                         print(similarity_ratio)
                        
    return matched
